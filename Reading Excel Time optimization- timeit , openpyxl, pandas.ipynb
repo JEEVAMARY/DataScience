{
 "cells": [
  {
   "cell_type": "code",
   "execution_count": 1,
   "metadata": {},
   "outputs": [],
   "source": [
    "import timeit\n",
    "import openpyxl\n",
    "import pandas as pd"
   ]
  },
  {
   "cell_type": "code",
   "execution_count": 2,
   "metadata": {},
   "outputs": [
    {
     "name": "stdout",
     "output_type": "stream",
     "text": [
      "0.04717299999999991\n"
     ]
    }
   ],
   "source": [
    "start = timeit.timeit()\n",
    "df= pd.read_excel(r'C:\\Users\\kbinm18203\\Downloads\\Utr Status 10-03-2021.xlsx',read_only=True)\n",
    "end = timeit.timeit()\n",
    "print(end - start)"
   ]
  },
  {
   "cell_type": "code",
   "execution_count": 3,
   "metadata": {},
   "outputs": [
    {
     "name": "stdout",
     "output_type": "stream",
     "text": [
      "0.003662299999999785\n"
     ]
    }
   ],
   "source": [
    "start = timeit.timeit()\n",
    "wb= openpyxl.load_workbook(filename=r'C:\\Users\\kbinm18203\\Downloads\\Utr Status 10-03-2021.xlsx', read_only=True)\n",
    "end = timeit.timeit()\n",
    "print(end - start)\n",
    "\n"
   ]
  },
  {
   "cell_type": "code",
   "execution_count": null,
   "metadata": {},
   "outputs": [],
   "source": []
  },
  {
   "cell_type": "code",
   "execution_count": null,
   "metadata": {},
   "outputs": [],
   "source": []
  }
 ],
 "metadata": {
  "kernelspec": {
   "display_name": "Python 3",
   "language": "python",
   "name": "python3"
  },
  "language_info": {
   "codemirror_mode": {
    "name": "ipython",
    "version": 3
   },
   "file_extension": ".py",
   "mimetype": "text/x-python",
   "name": "python",
   "nbconvert_exporter": "python",
   "pygments_lexer": "ipython3",
   "version": "3.7.4"
  }
 },
 "nbformat": 4,
 "nbformat_minor": 2
}
